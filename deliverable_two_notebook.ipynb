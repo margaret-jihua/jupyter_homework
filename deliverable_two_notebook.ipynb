{
 "cells": [
  {
   "cell_type": "code",
   "execution_count": 1,
   "metadata": {},
   "outputs": [],
   "source": [
    "def reverse(ss):\n",
    "    if len(ss) == 0:\n",
    "        return ss\n",
    "    return reverse(ss[1:]) + ss[0]"
   ]
  },
  {
   "cell_type": "code",
   "execution_count": 2,
   "metadata": {},
   "outputs": [
    {
     "name": "stdout",
     "output_type": "stream",
     "text": [
      "\n"
     ]
    }
   ],
   "source": [
    "print(reverse(\"\")) "
   ]
  },
  {
   "cell_type": "code",
   "execution_count": 3,
   "metadata": {},
   "outputs": [
    {
     "name": "stdout",
     "output_type": "stream",
     "text": [
      "ba\n"
     ]
    }
   ],
   "source": [
    "print(reverse(\"ab\")) "
   ]
  },
  {
   "cell_type": "code",
   "execution_count": 4,
   "metadata": {},
   "outputs": [
    {
     "name": "stdout",
     "output_type": "stream",
     "text": [
      "aba\n"
     ]
    }
   ],
   "source": [
    "print(reverse(\"aba\")) "
   ]
  },
  {
   "cell_type": "code",
   "execution_count": 5,
   "metadata": {},
   "outputs": [
    {
     "name": "stdout",
     "output_type": "stream",
     "text": [
      "gnizama\n"
     ]
    }
   ],
   "source": [
    "print(reverse(\"amazing\")) "
   ]
  },
  {
   "cell_type": "code",
   "execution_count": 6,
   "metadata": {},
   "outputs": [
    {
     "name": "stdout",
     "output_type": "stream",
     "text": [
      "computer\n"
     ]
    }
   ],
   "source": [
    "print(reverse(reverse(\"computer\")))"
   ]
  },
  {
   "cell_type": "code",
   "execution_count": 9,
   "metadata": {},
   "outputs": [],
   "source": [
    "def coin_flips(n):\n",
    "  if n <= 0:\n",
    "    return []\n",
    "  if n == 1:\n",
    "    return ['H', 'T']\n",
    "  combos = coin_flips(n - 1)\n",
    "#   print(n)\n",
    "  return [x + 'H' for x in combos] + [x + 'T' for x in combos]"
   ]
  },
  {
   "cell_type": "code",
   "execution_count": 10,
   "metadata": {},
   "outputs": [
    {
     "name": "stdout",
     "output_type": "stream",
     "text": [
      "['HHHH', 'THHH', 'HTHH', 'TTHH', 'HHTH', 'THTH', 'HTTH', 'TTTH', 'HHHT', 'THHT', 'HTHT', 'TTHT', 'HHTT', 'THTT', 'HTTT', 'TTTT']\n"
     ]
    }
   ],
   "source": [
    "print(coin_flips(4))"
   ]
  },
  {
   "cell_type": "code",
   "execution_count": 11,
   "metadata": {},
   "outputs": [
    {
     "name": "stdout",
     "output_type": "stream",
     "text": [
      "['H', 'T']\n"
     ]
    }
   ],
   "source": [
    "print(coin_flips(1))"
   ]
  },
  {
   "cell_type": "code",
   "execution_count": 12,
   "metadata": {},
   "outputs": [
    {
     "name": "stdout",
     "output_type": "stream",
     "text": [
      "['HH', 'TH', 'HT', 'TT']\n"
     ]
    }
   ],
   "source": [
    "print(coin_flips(2))"
   ]
  },
  {
   "cell_type": "code",
   "execution_count": 13,
   "metadata": {},
   "outputs": [
    {
     "name": "stdout",
     "output_type": "stream",
     "text": [
      "['HHH', 'THH', 'HTH', 'TTH', 'HHT', 'THT', 'HTT', 'TTT']\n"
     ]
    }
   ],
   "source": [
    "print(coin_flips(3))"
   ]
  },
  {
   "cell_type": "code",
   "execution_count": 14,
   "metadata": {},
   "outputs": [],
   "source": [
    "def pretty_print(dictionary, indent):\n",
    "  for key in dictionary:\n",
    "    value = dictionary[key]\n",
    "    if isinstance(value, dict):\n",
    "      print(f'{indent}{key}')\n",
    "      pretty_print(value, indent + indent)\n",
    "    else:\n",
    "      print(f'{indent}{key}: {value},')"
   ]
  },
  {
   "cell_type": "code",
   "execution_count": 15,
   "metadata": {},
   "outputs": [],
   "source": [
    "o1 = {\"a\": 1, \"b\": 2}\n",
    "\n",
    "o2 = {\"a\": 1, \"b\": 2, \"c\": {\"name\": \"Bruce Wayne\", \"occupation\": \"Hero\"}, \"d\": 4}\n",
    "\n",
    "o3 = {\"a\": 1, \"b\": 2, \"c\": {\"name\": \"Bruce Wayne\", \"occupation\": \"Hero\", \"friends\": {\"spiderman\": {\"name\": \"Peter Parker\"}, \"superman\": {\"name\": \"Clark Kent\"}}}, \"d\": 4}"
   ]
  },
  {
   "cell_type": "code",
   "execution_count": 17,
   "metadata": {},
   "outputs": [
    {
     "name": "stdout",
     "output_type": "stream",
     "text": [
      "-a: 1,\n",
      "-b: 2,\n"
     ]
    }
   ],
   "source": [
    "pretty_print(o1, \"-\")"
   ]
  },
  {
   "cell_type": "code",
   "execution_count": 19,
   "metadata": {},
   "outputs": [
    {
     "name": "stdout",
     "output_type": "stream",
     "text": [
      "...a: 1,\n",
      "...b: 2,\n",
      "...c\n",
      "......name: Bruce Wayne,\n",
      "......occupation: Hero,\n",
      "...d: 4,\n"
     ]
    }
   ],
   "source": [
    "pretty_print(o2, \"...\")"
   ]
  },
  {
   "cell_type": "code",
   "execution_count": 20,
   "metadata": {},
   "outputs": [
    {
     "name": "stdout",
     "output_type": "stream",
     "text": [
      "~~a: 1,\n",
      "~~b: 2,\n",
      "~~c\n",
      "~~~~name: Bruce Wayne,\n",
      "~~~~occupation: Hero,\n",
      "~~~~friends\n",
      "~~~~~~~~spiderman\n",
      "~~~~~~~~~~~~~~~~name: Peter Parker,\n",
      "~~~~~~~~superman\n",
      "~~~~~~~~~~~~~~~~name: Clark Kent,\n",
      "~~d: 4,\n"
     ]
    }
   ],
   "source": [
    "pretty_print(o3, \"~~\")"
   ]
  },
  {
   "cell_type": "code",
   "execution_count": null,
   "metadata": {},
   "outputs": [],
   "source": []
  }
 ],
 "metadata": {
  "kernelspec": {
   "display_name": "Python 3",
   "language": "python",
   "name": "python3"
  },
  "language_info": {
   "codemirror_mode": {
    "name": "ipython",
    "version": 3
   },
   "file_extension": ".py",
   "mimetype": "text/x-python",
   "name": "python",
   "nbconvert_exporter": "python",
   "pygments_lexer": "ipython3",
   "version": "3.8.5"
  }
 },
 "nbformat": 4,
 "nbformat_minor": 4
}
